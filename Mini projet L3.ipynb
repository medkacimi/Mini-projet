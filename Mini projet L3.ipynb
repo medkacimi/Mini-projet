{
 "cells": [
  {
   "cell_type": "markdown",
   "id": "72d13e61-da2b-46d4-bc3e-da4692ab4901",
   "metadata": {},
   "source": [
    "## <center>Mini Projet Python "
   ]
  },
  {
   "cell_type": "markdown",
   "id": "6270f2a3-a73c-4928-a1e7-56c092512028",
   "metadata": {},
   "source": [
    "### Importer le module Pandas Numpy et matplotlib.pyplot"
   ]
  },
  {
   "cell_type": "code",
   "execution_count": 11,
   "id": "f70e2308-1341-452e-9fd5-134b22837291",
   "metadata": {},
   "outputs": [],
   "source": [
    "import pandas as pd\n",
    "import numpy as np\n",
    "import matplotlib.pyplot as plt"
   ]
  },
  {
   "cell_type": "markdown",
   "id": "e44b463f-71c6-4f18-8f52-6d65b52fdc43",
   "metadata": {},
   "source": [
    "### Chargement des données \n",
    "\n",
    "\n",
    "Les données sont dans un tableau au format CSV (*comma separated values*):"
   ]
  },
  {
   "cell_type": "code",
   "execution_count": 12,
   "id": "c296b9b5-f34c-4d99-9215-8a071c8651c4",
   "metadata": {},
   "outputs": [],
   "source": [
    "donnees_performance= pd.read_csv(\"student_performance_data.csv\") "
   ]
  },
  {
   "cell_type": "markdown",
   "id": "4b4e1abe-1460-41b3-a3b9-e017da6b8b2c",
   "metadata": {},
   "source": [
    "### Aperçu des données."
   ]
  },
  {
   "cell_type": "code",
   "execution_count": 9,
   "id": "f35c2267-f1a1-4a9d-b4d9-4af555795d61",
   "metadata": {},
   "outputs": [
    {
     "data": {
      "text/html": [
       "<div>\n",
       "<style scoped>\n",
       "    .dataframe tbody tr th:only-of-type {\n",
       "        vertical-align: middle;\n",
       "    }\n",
       "\n",
       "    .dataframe tbody tr th {\n",
       "        vertical-align: top;\n",
       "    }\n",
       "\n",
       "    .dataframe thead th {\n",
       "        text-align: right;\n",
       "    }\n",
       "</style>\n",
       "<table border=\"1\" class=\"dataframe\">\n",
       "  <thead>\n",
       "    <tr style=\"text-align: right;\">\n",
       "      <th></th>\n",
       "      <th>StudentID</th>\n",
       "      <th>Gender</th>\n",
       "      <th>Age</th>\n",
       "      <th>StudyHoursPerWeek</th>\n",
       "      <th>AttendanceRate</th>\n",
       "      <th>GPA</th>\n",
       "      <th>Major</th>\n",
       "      <th>PartTimeJob</th>\n",
       "      <th>ExtraCurricularActivities</th>\n",
       "    </tr>\n",
       "  </thead>\n",
       "  <tbody>\n",
       "    <tr>\n",
       "      <th>0</th>\n",
       "      <td>1</td>\n",
       "      <td>Male</td>\n",
       "      <td>24</td>\n",
       "      <td>37</td>\n",
       "      <td>90.75</td>\n",
       "      <td>3.47</td>\n",
       "      <td>Arts</td>\n",
       "      <td>Yes</td>\n",
       "      <td>No</td>\n",
       "    </tr>\n",
       "    <tr>\n",
       "      <th>1</th>\n",
       "      <td>2</td>\n",
       "      <td>Female</td>\n",
       "      <td>22</td>\n",
       "      <td>37</td>\n",
       "      <td>74.90</td>\n",
       "      <td>2.32</td>\n",
       "      <td>Education</td>\n",
       "      <td>No</td>\n",
       "      <td>No</td>\n",
       "    </tr>\n",
       "    <tr>\n",
       "      <th>2</th>\n",
       "      <td>3</td>\n",
       "      <td>Male</td>\n",
       "      <td>22</td>\n",
       "      <td>10</td>\n",
       "      <td>53.36</td>\n",
       "      <td>2.38</td>\n",
       "      <td>Business</td>\n",
       "      <td>No</td>\n",
       "      <td>No</td>\n",
       "    </tr>\n",
       "    <tr>\n",
       "      <th>3</th>\n",
       "      <td>4</td>\n",
       "      <td>Male</td>\n",
       "      <td>24</td>\n",
       "      <td>10</td>\n",
       "      <td>70.26</td>\n",
       "      <td>3.46</td>\n",
       "      <td>Science</td>\n",
       "      <td>Yes</td>\n",
       "      <td>No</td>\n",
       "    </tr>\n",
       "    <tr>\n",
       "      <th>4</th>\n",
       "      <td>5</td>\n",
       "      <td>Male</td>\n",
       "      <td>18</td>\n",
       "      <td>19</td>\n",
       "      <td>74.87</td>\n",
       "      <td>2.31</td>\n",
       "      <td>Education</td>\n",
       "      <td>Yes</td>\n",
       "      <td>No</td>\n",
       "    </tr>\n",
       "    <tr>\n",
       "      <th>5</th>\n",
       "      <td>6</td>\n",
       "      <td>Female</td>\n",
       "      <td>20</td>\n",
       "      <td>17</td>\n",
       "      <td>86.01</td>\n",
       "      <td>2.47</td>\n",
       "      <td>Business</td>\n",
       "      <td>Yes</td>\n",
       "      <td>No</td>\n",
       "    </tr>\n",
       "    <tr>\n",
       "      <th>6</th>\n",
       "      <td>7</td>\n",
       "      <td>Male</td>\n",
       "      <td>19</td>\n",
       "      <td>21</td>\n",
       "      <td>55.33</td>\n",
       "      <td>3.93</td>\n",
       "      <td>Arts</td>\n",
       "      <td>No</td>\n",
       "      <td>No</td>\n",
       "    </tr>\n",
       "    <tr>\n",
       "      <th>7</th>\n",
       "      <td>8</td>\n",
       "      <td>Male</td>\n",
       "      <td>18</td>\n",
       "      <td>14</td>\n",
       "      <td>57.00</td>\n",
       "      <td>2.51</td>\n",
       "      <td>Education</td>\n",
       "      <td>No</td>\n",
       "      <td>No</td>\n",
       "    </tr>\n",
       "    <tr>\n",
       "      <th>8</th>\n",
       "      <td>9</td>\n",
       "      <td>Male</td>\n",
       "      <td>19</td>\n",
       "      <td>9</td>\n",
       "      <td>63.18</td>\n",
       "      <td>3.32</td>\n",
       "      <td>Business</td>\n",
       "      <td>No</td>\n",
       "      <td>No</td>\n",
       "    </tr>\n",
       "    <tr>\n",
       "      <th>9</th>\n",
       "      <td>10</td>\n",
       "      <td>Female</td>\n",
       "      <td>24</td>\n",
       "      <td>1</td>\n",
       "      <td>63.32</td>\n",
       "      <td>3.96</td>\n",
       "      <td>Engineering</td>\n",
       "      <td>Yes</td>\n",
       "      <td>Yes</td>\n",
       "    </tr>\n",
       "  </tbody>\n",
       "</table>\n",
       "</div>"
      ],
      "text/plain": [
       "   StudentID  Gender  Age  StudyHoursPerWeek  AttendanceRate   GPA  \\\n",
       "0          1    Male   24                 37           90.75  3.47   \n",
       "1          2  Female   22                 37           74.90  2.32   \n",
       "2          3    Male   22                 10           53.36  2.38   \n",
       "3          4    Male   24                 10           70.26  3.46   \n",
       "4          5    Male   18                 19           74.87  2.31   \n",
       "5          6  Female   20                 17           86.01  2.47   \n",
       "6          7    Male   19                 21           55.33  3.93   \n",
       "7          8    Male   18                 14           57.00  2.51   \n",
       "8          9    Male   19                  9           63.18  3.32   \n",
       "9         10  Female   24                  1           63.32  3.96   \n",
       "\n",
       "         Major PartTimeJob ExtraCurricularActivities  \n",
       "0         Arts         Yes                        No  \n",
       "1    Education          No                        No  \n",
       "2     Business          No                        No  \n",
       "3      Science         Yes                        No  \n",
       "4    Education         Yes                        No  \n",
       "5     Business         Yes                        No  \n",
       "6         Arts          No                        No  \n",
       "7    Education          No                        No  \n",
       "8     Business          No                        No  \n",
       "9  Engineering         Yes                       Yes  "
      ]
     },
     "execution_count": 9,
     "metadata": {},
     "output_type": "execute_result"
    }
   ],
   "source": [
    "donnees_performance.head(10)"
   ]
  },
  {
   "cell_type": "markdown",
   "id": "abafc6ee-7616-4f02-9c90-a84d52075c1c",
   "metadata": {},
   "source": [
    "### Quels facteurs contribuent à la réussite académique des étudiants ?"
   ]
  },
  {
   "cell_type": "markdown",
   "id": "5ed25141-4eda-4a71-97bf-6d5b7a431604",
   "metadata": {},
   "source": [
    "* On va commencer par **observer nos données**, en répondant aux questions suivantes :"
   ]
  },
  {
   "cell_type": "markdown",
   "id": "33d3236f-70b6-46e2-b40f-7350c59ee77c",
   "metadata": {},
   "source": [
    "    1. Quel est l'impact du temps d'étude sur la performance académique ? \n",
    "    2. Comment le taux de présence aux cours affecte-t-il la réussite académique ? \n",
    "    3. Comment le travail à temps partiel influence-t-il la réussite académique des étudiants ? "
   ]
  },
  {
   "cell_type": "markdown",
   "id": "62571611-1b05-4b0b-8114-301ab0586038",
   "metadata": {},
   "source": [
    "## Quel est l'impact du temps d'étude sur la performance académique ?"
   ]
  },
  {
   "cell_type": "markdown",
   "id": "a2e694ce-66c3-4f7e-94aa-9f052cc472d9",
   "metadata": {},
   "source": [
    "On va commencer par extraire les données pertinentes pour répondre a cette question "
   ]
  },
  {
   "cell_type": "code",
   "execution_count": 17,
   "id": "7995e8cd-2ac8-4f99-93d8-4a76617c1586",
   "metadata": {},
   "outputs": [
    {
     "data": {
      "text/html": [
       "<div>\n",
       "<style scoped>\n",
       "    .dataframe tbody tr th:only-of-type {\n",
       "        vertical-align: middle;\n",
       "    }\n",
       "\n",
       "    .dataframe tbody tr th {\n",
       "        vertical-align: top;\n",
       "    }\n",
       "\n",
       "    .dataframe thead th {\n",
       "        text-align: right;\n",
       "    }\n",
       "</style>\n",
       "<table border=\"1\" class=\"dataframe\">\n",
       "  <thead>\n",
       "    <tr style=\"text-align: right;\">\n",
       "      <th></th>\n",
       "      <th>StudyHoursPerWeek</th>\n",
       "      <th>GPA</th>\n",
       "    </tr>\n",
       "  </thead>\n",
       "  <tbody>\n",
       "    <tr>\n",
       "      <th>0</th>\n",
       "      <td>1</td>\n",
       "      <td>2.723333</td>\n",
       "    </tr>\n",
       "    <tr>\n",
       "      <th>1</th>\n",
       "      <td>2</td>\n",
       "      <td>2.705333</td>\n",
       "    </tr>\n",
       "    <tr>\n",
       "      <th>2</th>\n",
       "      <td>3</td>\n",
       "      <td>2.955833</td>\n",
       "    </tr>\n",
       "    <tr>\n",
       "      <th>3</th>\n",
       "      <td>4</td>\n",
       "      <td>2.932000</td>\n",
       "    </tr>\n",
       "    <tr>\n",
       "      <th>4</th>\n",
       "      <td>5</td>\n",
       "      <td>3.033333</td>\n",
       "    </tr>\n",
       "    <tr>\n",
       "      <th>5</th>\n",
       "      <td>6</td>\n",
       "      <td>2.967333</td>\n",
       "    </tr>\n",
       "    <tr>\n",
       "      <th>6</th>\n",
       "      <td>7</td>\n",
       "      <td>2.824444</td>\n",
       "    </tr>\n",
       "    <tr>\n",
       "      <th>7</th>\n",
       "      <td>8</td>\n",
       "      <td>3.284667</td>\n",
       "    </tr>\n",
       "    <tr>\n",
       "      <th>8</th>\n",
       "      <td>9</td>\n",
       "      <td>3.154167</td>\n",
       "    </tr>\n",
       "    <tr>\n",
       "      <th>9</th>\n",
       "      <td>10</td>\n",
       "      <td>2.883750</td>\n",
       "    </tr>\n",
       "    <tr>\n",
       "      <th>10</th>\n",
       "      <td>11</td>\n",
       "      <td>2.838667</td>\n",
       "    </tr>\n",
       "    <tr>\n",
       "      <th>11</th>\n",
       "      <td>12</td>\n",
       "      <td>3.157500</td>\n",
       "    </tr>\n",
       "    <tr>\n",
       "      <th>12</th>\n",
       "      <td>13</td>\n",
       "      <td>2.967500</td>\n",
       "    </tr>\n",
       "    <tr>\n",
       "      <th>13</th>\n",
       "      <td>14</td>\n",
       "      <td>3.018235</td>\n",
       "    </tr>\n",
       "    <tr>\n",
       "      <th>14</th>\n",
       "      <td>15</td>\n",
       "      <td>3.071667</td>\n",
       "    </tr>\n",
       "    <tr>\n",
       "      <th>15</th>\n",
       "      <td>16</td>\n",
       "      <td>3.072500</td>\n",
       "    </tr>\n",
       "    <tr>\n",
       "      <th>16</th>\n",
       "      <td>17</td>\n",
       "      <td>2.882000</td>\n",
       "    </tr>\n",
       "    <tr>\n",
       "      <th>17</th>\n",
       "      <td>18</td>\n",
       "      <td>2.794545</td>\n",
       "    </tr>\n",
       "    <tr>\n",
       "      <th>18</th>\n",
       "      <td>19</td>\n",
       "      <td>2.900000</td>\n",
       "    </tr>\n",
       "    <tr>\n",
       "      <th>19</th>\n",
       "      <td>20</td>\n",
       "      <td>2.972727</td>\n",
       "    </tr>\n",
       "    <tr>\n",
       "      <th>20</th>\n",
       "      <td>21</td>\n",
       "      <td>2.985833</td>\n",
       "    </tr>\n",
       "    <tr>\n",
       "      <th>21</th>\n",
       "      <td>22</td>\n",
       "      <td>2.784615</td>\n",
       "    </tr>\n",
       "    <tr>\n",
       "      <th>22</th>\n",
       "      <td>23</td>\n",
       "      <td>2.911875</td>\n",
       "    </tr>\n",
       "    <tr>\n",
       "      <th>23</th>\n",
       "      <td>24</td>\n",
       "      <td>3.197500</td>\n",
       "    </tr>\n",
       "    <tr>\n",
       "      <th>24</th>\n",
       "      <td>25</td>\n",
       "      <td>3.137273</td>\n",
       "    </tr>\n",
       "    <tr>\n",
       "      <th>25</th>\n",
       "      <td>26</td>\n",
       "      <td>2.796667</td>\n",
       "    </tr>\n",
       "    <tr>\n",
       "      <th>26</th>\n",
       "      <td>27</td>\n",
       "      <td>2.907778</td>\n",
       "    </tr>\n",
       "    <tr>\n",
       "      <th>27</th>\n",
       "      <td>28</td>\n",
       "      <td>2.683636</td>\n",
       "    </tr>\n",
       "    <tr>\n",
       "      <th>28</th>\n",
       "      <td>29</td>\n",
       "      <td>3.040000</td>\n",
       "    </tr>\n",
       "    <tr>\n",
       "      <th>29</th>\n",
       "      <td>30</td>\n",
       "      <td>3.198824</td>\n",
       "    </tr>\n",
       "    <tr>\n",
       "      <th>30</th>\n",
       "      <td>31</td>\n",
       "      <td>2.989000</td>\n",
       "    </tr>\n",
       "    <tr>\n",
       "      <th>31</th>\n",
       "      <td>32</td>\n",
       "      <td>3.372727</td>\n",
       "    </tr>\n",
       "    <tr>\n",
       "      <th>32</th>\n",
       "      <td>33</td>\n",
       "      <td>3.111875</td>\n",
       "    </tr>\n",
       "    <tr>\n",
       "      <th>33</th>\n",
       "      <td>34</td>\n",
       "      <td>3.243333</td>\n",
       "    </tr>\n",
       "    <tr>\n",
       "      <th>34</th>\n",
       "      <td>35</td>\n",
       "      <td>2.886667</td>\n",
       "    </tr>\n",
       "    <tr>\n",
       "      <th>35</th>\n",
       "      <td>36</td>\n",
       "      <td>3.034545</td>\n",
       "    </tr>\n",
       "    <tr>\n",
       "      <th>36</th>\n",
       "      <td>37</td>\n",
       "      <td>3.061111</td>\n",
       "    </tr>\n",
       "    <tr>\n",
       "      <th>37</th>\n",
       "      <td>38</td>\n",
       "      <td>2.957143</td>\n",
       "    </tr>\n",
       "    <tr>\n",
       "      <th>38</th>\n",
       "      <td>39</td>\n",
       "      <td>3.123333</td>\n",
       "    </tr>\n",
       "  </tbody>\n",
       "</table>\n",
       "</div>"
      ],
      "text/plain": [
       "    StudyHoursPerWeek       GPA\n",
       "0                   1  2.723333\n",
       "1                   2  2.705333\n",
       "2                   3  2.955833\n",
       "3                   4  2.932000\n",
       "4                   5  3.033333\n",
       "5                   6  2.967333\n",
       "6                   7  2.824444\n",
       "7                   8  3.284667\n",
       "8                   9  3.154167\n",
       "9                  10  2.883750\n",
       "10                 11  2.838667\n",
       "11                 12  3.157500\n",
       "12                 13  2.967500\n",
       "13                 14  3.018235\n",
       "14                 15  3.071667\n",
       "15                 16  3.072500\n",
       "16                 17  2.882000\n",
       "17                 18  2.794545\n",
       "18                 19  2.900000\n",
       "19                 20  2.972727\n",
       "20                 21  2.985833\n",
       "21                 22  2.784615\n",
       "22                 23  2.911875\n",
       "23                 24  3.197500\n",
       "24                 25  3.137273\n",
       "25                 26  2.796667\n",
       "26                 27  2.907778\n",
       "27                 28  2.683636\n",
       "28                 29  3.040000\n",
       "29                 30  3.198824\n",
       "30                 31  2.989000\n",
       "31                 32  3.372727\n",
       "32                 33  3.111875\n",
       "33                 34  3.243333\n",
       "34                 35  2.886667\n",
       "35                 36  3.034545\n",
       "36                 37  3.061111\n",
       "37                 38  2.957143\n",
       "38                 39  3.123333"
      ]
     },
     "execution_count": 17,
     "metadata": {},
     "output_type": "execute_result"
    }
   ],
   "source": [
    "# Grouper par heures d'étude et calculer la moyenne du GPA ( moyenne pondérée cumulative )\n",
    "impact = donnees_performance.groupby('StudyHoursPerWeek')['GPA'].mean().reset_index()\n",
    "impact"
   ]
  },
  {
   "cell_type": "markdown",
   "id": "a3898f6a-d364-4640-b00e-9210e02baebd",
   "metadata": {},
   "source": [
    "### Visualisation graphique"
   ]
  },
  {
   "cell_type": "code",
   "execution_count": 19,
   "id": "d3393b85-0c4d-453e-ba4d-661339c5d7b1",
   "metadata": {},
   "outputs": [
    {
     "data": {
      "image/png": "[encoded data removed]",
      "text/plain": [
       "<Figure size 1200x600 with 1 Axes>"
      ]
     },
     "metadata": {},
     "output_type": "display_data"
    }
   ],
   "source": [
    "# Créer un graphique en nuage de points\n",
    "plt.figure(figsize=(12, 6))\n",
    "plt.scatter(impact['StudyHoursPerWeek'], impact['GPA'])\n",
    "plt.title(\"Impact du temps d'étude sur le GPA moyen\")\n",
    "plt.xlabel(\"Heures d'étude par semaine\")\n",
    "plt.ylabel(\"GPA moyen\")\n",
    "plt.ylim(0, 4)  # GPA est généralement sur une échelle de 0 à 4\n",
    "plt.grid(True)\n",
    "plt.show()"
   ]
  },
  {
   "cell_type": "code",
   "execution_count": 21,
   "id": "dc22a587-b957-4ca0-b695-42a765003d2d",
   "metadata": {},
   "outputs": [
    {
     "name": "stdout",
     "output_type": "stream",
     "text": [
      "Corrélation entre le temps d'étude et le GPA : 0.09\n"
     ]
    }
   ],
   "source": [
    "# Calculer la corrélation entre le temps d'étude et le GPA ( moyenne pondérée cumulative )\n",
    "correlation = donnees_performance['StudyHoursPerWeek'].corr(donnees_performance['GPA'])\n",
    "print(f\"Corrélation entre le temps d'étude et le GPA : {correlation:.2f}\")"
   ]
  },
  {
   "cell_type": "markdown",
   "id": "5e0e4b12-da96-472a-93c5-dfeadf9ab88e",
   "metadata": {},
   "source": [
    "### Conclusions :\n",
    "    1. On observe une tendance ascendante dans le nuage de points, indiquant que plus les heures d'étude augmentent, plus le GPA moyen tend à s'améliorer.\n",
    "     4. Le tableau imprimé montrera le GPA moyen pour chaque nombre d'heures d'étude unique présent dans les données.\n",
    "     3. une corrélation d'une valeur proche de 1 indique une forte relation positive indiquerait une relation significative entre le temps d'étude et le GPA.\n",
    "En général, les étudiants qui consacrent plus de temps à l'étude tendent à obtenir des GPA plus élevés."
   ]
  },
  {
   "cell_type": "markdown",
   "id": "48c77d1b-3a04-4fc6-942f-862484c93875",
   "metadata": {},
   "source": [
    "## Comment le taux de présence aux cours affecte-t-il la réussite académique "
   ]
  },
  {
   "cell_type": "markdown",
   "id": "a6d5a1a3-b590-4c37-b250-4aa6e3eaaab7",
   "metadata": {},
   "source": [
    "On va commencer par extraire les données pertinentes pour répondre a cette question "
   ]
  },
  {
   "cell_type": "code",
   "execution_count": 44,
   "id": "3fdcbbd1-4564-4d16-8529-25915fc46350",
   "metadata": {},
   "outputs": [
    {
     "data": {
      "text/html": [
       "<div>\n",
       "<style scoped>\n",
       "    .dataframe tbody tr th:only-of-type {\n",
       "        vertical-align: middle;\n",
       "    }\n",
       "\n",
       "    .dataframe tbody tr th {\n",
       "        vertical-align: top;\n",
       "    }\n",
       "\n",
       "    .dataframe thead th {\n",
       "        text-align: right;\n",
       "    }\n",
       "</style>\n",
       "<table border=\"1\" class=\"dataframe\">\n",
       "  <thead>\n",
       "    <tr style=\"text-align: right;\">\n",
       "      <th></th>\n",
       "      <th>StudentID</th>\n",
       "      <th>Age</th>\n",
       "      <th>StudyHoursPerWeek</th>\n",
       "      <th>AttendanceRate</th>\n",
       "      <th>GPA</th>\n",
       "    </tr>\n",
       "  </thead>\n",
       "  <tbody>\n",
       "    <tr>\n",
       "      <th>count</th>\n",
       "      <td>500.000000</td>\n",
       "      <td>500.000000</td>\n",
       "      <td>500.000000</td>\n",
       "      <td>500.000000</td>\n",
       "      <td>500.00000</td>\n",
       "    </tr>\n",
       "    <tr>\n",
       "      <th>mean</th>\n",
       "      <td>250.500000</td>\n",
       "      <td>20.956000</td>\n",
       "      <td>19.876000</td>\n",
       "      <td>74.990380</td>\n",
       "      <td>2.98516</td>\n",
       "    </tr>\n",
       "    <tr>\n",
       "      <th>std</th>\n",
       "      <td>144.481833</td>\n",
       "      <td>2.000517</td>\n",
       "      <td>11.471347</td>\n",
       "      <td>14.565917</td>\n",
       "      <td>0.56362</td>\n",
       "    </tr>\n",
       "    <tr>\n",
       "      <th>min</th>\n",
       "      <td>1.000000</td>\n",
       "      <td>18.000000</td>\n",
       "      <td>1.000000</td>\n",
       "      <td>50.010000</td>\n",
       "      <td>2.00000</td>\n",
       "    </tr>\n",
       "    <tr>\n",
       "      <th>25%</th>\n",
       "      <td>125.750000</td>\n",
       "      <td>19.000000</td>\n",
       "      <td>10.000000</td>\n",
       "      <td>62.607500</td>\n",
       "      <td>2.48750</td>\n",
       "    </tr>\n",
       "    <tr>\n",
       "      <th>50%</th>\n",
       "      <td>250.500000</td>\n",
       "      <td>21.000000</td>\n",
       "      <td>20.500000</td>\n",
       "      <td>75.730000</td>\n",
       "      <td>3.00000</td>\n",
       "    </tr>\n",
       "    <tr>\n",
       "      <th>75%</th>\n",
       "      <td>375.250000</td>\n",
       "      <td>23.000000</td>\n",
       "      <td>30.000000</td>\n",
       "      <td>87.220000</td>\n",
       "      <td>3.48000</td>\n",
       "    </tr>\n",
       "    <tr>\n",
       "      <th>max</th>\n",
       "      <td>500.000000</td>\n",
       "      <td>24.000000</td>\n",
       "      <td>39.000000</td>\n",
       "      <td>99.970000</td>\n",
       "      <td>3.99000</td>\n",
       "    </tr>\n",
       "  </tbody>\n",
       "</table>\n",
       "</div>"
      ],
      "text/plain": [
       "        StudentID         Age  StudyHoursPerWeek  AttendanceRate        GPA\n",
       "count  500.000000  500.000000         500.000000      500.000000  500.00000\n",
       "mean   250.500000   20.956000          19.876000       74.990380    2.98516\n",
       "std    144.481833    2.000517          11.471347       14.565917    0.56362\n",
       "min      1.000000   18.000000           1.000000       50.010000    2.00000\n",
       "25%    125.750000   19.000000          10.000000       62.607500    2.48750\n",
       "50%    250.500000   21.000000          20.500000       75.730000    3.00000\n",
       "75%    375.250000   23.000000          30.000000       87.220000    3.48000\n",
       "max    500.000000   24.000000          39.000000       99.970000    3.99000"
      ]
     },
     "execution_count": 44,
     "metadata": {},
     "output_type": "execute_result"
    }
   ],
   "source": [
    "donnees_performance.describe()"
   ]
  },
  {
   "cell_type": "code",
   "execution_count": 55,
   "id": "d007a7f9-6cef-4a00-913e-9a8c171a1bec",
   "metadata": {},
   "outputs": [],
   "source": [
    "# Arrondir le taux de présence à l'entier le plus proche pour le groupby\n",
    "donnees_performance['AttendanceRateRounded'] = donnees_performance['AttendanceRate'].round()"
   ]
  },
  {
   "cell_type": "code",
   "execution_count": 57,
   "id": "d47ce529-3eba-4c99-84f7-7b763b5ff9ec",
   "metadata": {},
   "outputs": [],
   "source": [
    "# Grouper par taux de présence arrondi et calculer le GPA moyen\n",
    "attendance_gpa = donnees_performance.groupby('AttendanceRateRounded')['GPA'].mean().reset_index()"
   ]
  },
  {
   "cell_type": "code",
   "execution_count": 59,
   "id": "ae4d1fd1-2de5-40c5-9aa6-88ef6484bb59",
   "metadata": {},
   "outputs": [
    {
     "name": "stdout",
     "output_type": "stream",
     "text": [
      "    AttendanceRateRounded       GPA\n",
      "0                    50.0  2.805833\n",
      "1                    51.0  2.813333\n",
      "2                    52.0  2.965714\n",
      "3                    53.0  3.152727\n",
      "4                    54.0  2.997273\n",
      "5                    55.0  2.871538\n",
      "6                    56.0  2.787778\n",
      "7                    57.0  2.826250\n",
      "8                    58.0  2.907273\n",
      "9                    59.0  2.931250\n",
      "10                   60.0  2.963333\n",
      "11                   61.0  2.566667\n",
      "12                   62.0  2.808889\n",
      "13                   63.0  3.033000\n",
      "14                   64.0  3.125714\n",
      "15                   65.0  3.207500\n",
      "16                   66.0  2.876364\n",
      "17                   67.0  3.118571\n",
      "18                   68.0  3.162857\n",
      "19                   69.0  2.918750\n",
      "20                   70.0  2.972353\n",
      "21                   71.0  3.052500\n",
      "22                   72.0  2.778462\n",
      "23                   73.0  3.180000\n",
      "24                   74.0  3.347857\n",
      "25                   75.0  2.615000\n",
      "26                   76.0  3.359231\n",
      "27                   77.0  2.871538\n",
      "28                   78.0  2.692500\n",
      "29                   79.0  2.908571\n",
      "30                   80.0  3.185000\n",
      "31                   81.0  3.137000\n",
      "32                   82.0  2.677500\n",
      "33                   83.0  2.987500\n",
      "34                   84.0  2.831667\n",
      "35                   85.0  3.047500\n",
      "36                   86.0  2.985556\n",
      "37                   87.0  2.986429\n",
      "38                   88.0  3.017143\n",
      "39                   89.0  3.174545\n",
      "40                   90.0  2.955000\n",
      "41                   91.0  2.950000\n",
      "42                   92.0  3.210909\n",
      "43                   93.0  2.896667\n",
      "44                   94.0  2.852222\n",
      "45                   95.0  2.706000\n",
      "46                   96.0  2.857500\n",
      "47                   97.0  3.101000\n",
      "48                   98.0  3.182500\n",
      "49                   99.0  3.002500\n",
      "50                  100.0  3.136667\n"
     ]
    }
   ],
   "source": [
    "# Afficher les résultats\n",
    "print(attendance_gpa)"
   ]
  },
  {
   "cell_type": "code",
   "execution_count": 61,
   "id": "ca3222a2-4753-466f-9a0c-28df71753d01",
   "metadata": {},
   "outputs": [
    {
     "data": {
      "image/png": "[encoded data removed]",
      "text/plain": [
       "<Figure size 1200x600 with 1 Axes>"
      ]
     },
     "metadata": {},
     "output_type": "display_data"
    }
   ],
   "source": [
    " # Créer un graphique de dispersion\n",
    "plt.figure(figsize=(12, 6))\n",
    "plt.scatter(attendance_gpa['AttendanceRateRounded'], attendance_gpa['GPA'])\n",
    "plt.title('GPA moyen par taux de présence')\n",
    "plt.xlabel('Taux de présence (%)')\n",
    "plt.ylabel('GPA moyen')\n",
    "plt.ylim(0, 4)  # Échelle GPA typique\n",
    "plt.grid(True)\n",
    "plt.show()"
   ]
  },
  {
   "cell_type": "code",
   "execution_count": 63,
   "id": "19bb301a-7503-44e7-ae82-5c4aad409ed1",
   "metadata": {},
   "outputs": [
    {
     "name": "stdout",
     "output_type": "stream",
     "text": [
      "Corrélation entre le taux de présence et le GPA : 0.06\n"
     ]
    }
   ],
   "source": [
    "# Calculer la corrélation entre le taux de présence et le GPA ( moyenne pondérée cumulative )\n",
    "correlation = donnees_performance['AttendanceRate'].corr(donnees_performance['GPA'])\n",
    "print(f\"Corrélation entre le taux de présence et le GPA : {correlation:.2f}\")"
   ]
  },
  {
   "cell_type": "markdown",
   "id": "e229beb6-6169-4842-a2f2-188c3d8a6ec2",
   "metadata": {},
   "source": [
    "### Interpretation\n",
    "\n",
    "     1.Le graphique de dispersion montre une tendance à l'augmentation du GPA moyen avec l'augmentation du taux de présence."
   ]
  },
  {
   "cell_type": "markdown",
   "id": "7f350c9e-33b2-47ec-9dbb-27d214be14f0",
   "metadata": {},
   "source": [
    "### Conclusion\n",
    "\n",
    "Le graphique montre que la GPA moyenne augmente avec le taux de présence, on peut conclure que plus les étudiants assistent aux cours, meilleure est leur performance académique. "
   ]
  },
  {
   "cell_type": "markdown",
   "id": "62810888-87b3-45f3-9313-b475d5dc6a5d",
   "metadata": {},
   "source": [
    "## Comment le travail à temps partiel influence-t-il la réussite académique des étudiants ?"
   ]
  },
  {
   "cell_type": "markdown",
   "id": "7d8c33f1-e25a-4081-9320-757182efa37a",
   "metadata": {},
   "source": [
    "On va commencer par extraire les données pertinentes pour répondre a cette question "
   ]
  },
  {
   "cell_type": "code",
   "execution_count": 55,
   "id": "7c5475ef-0e96-4325-be7b-8427e33011e7",
   "metadata": {},
   "outputs": [],
   "source": [
    "# Séparer les étudiants en deux groupes (avec et sans travail à temps partiel)\n",
    "grouped_job_data = donnees_performance.groupby('PartTimeJob')['GPA'].mean()"
   ]
  },
  {
   "cell_type": "markdown",
   "id": "3859dd24-ecd0-4ef6-aa6f-6a5f6cf7bb5f",
   "metadata": {},
   "source": [
    "## Visualisation du graphe"
   ]
  },
  {
   "cell_type": "code",
   "execution_count": 57,
   "id": "1eaa642d-8c3b-434a-b796-7632d62c9373",
   "metadata": {},
   "outputs": [
    {
     "data": {
      "image/png": "[encoded data removed]",
      "text/plain": [
       "<Figure size 800x600 with 1 Axes>"
      ]
     },
     "metadata": {},
     "output_type": "display_data"
    }
   ],
   "source": [
    "# Créer un graphique à barres pour comparer la GPA moyenne entre les deux groupes\n",
    "plt.figure(figsize=(8, 6))\n",
    "grouped_job_data.plot(kind='bar', color=['lightcoral', 'lightblue'], edgecolor='black')\n",
    "plt.title('Average GPA by Part-Time Job Status', fontsize=14)\n",
    "plt.xlabel('Part-Time Job', fontsize=12)\n",
    "plt.ylabel('Average GPA', fontsize=12)\n",
    "plt.xticks(rotation=0)\n",
    "plt.grid(axis='y')\n",
    "plt.show()"
   ]
  },
  {
   "cell_type": "markdown",
   "id": "d2712be6-40b0-4b95-8455-9d59e820dc0b",
   "metadata": {},
   "source": [
    "## Interprétation possible :\n",
    "\n",
    "    - les étudiants sans travail à temps partiel ont une GPA moyenne plus élevée : Cela suggère que le travail à temps partiel pourrait affecter négativement la performance académique. Les étudiants qui travaillent pourraient avoir moins de temps pour se consacrer à leurs études, ce qui pourrait expliquer cette différence.\n",
    "\n",
    "    Interprétation globale :\n",
    "\n",
    "    - Si les barres sont de hauteur très similaire, cela suggère que le travail à temps partiel a peu d'impact sur le GPA moyen.\n",
    "    - Si une barre est nettement plus haute que l'autre, cela indique une différence plus marquée dans les performances académiques entre les deux groupes.\n",
    "\n",
    "    - les étudiants avec un travail à temps partiel ont une GPA plus élevée : Cela pourrait suggérer que le travail à temps partiel améliore certaines compétences comme la gestion du temps ou la discipline, et que ces compétences se traduisent par une meilleure performance académique."
   ]
  },
  {
   "cell_type": "markdown",
   "id": "637af2d1-447f-41fc-883e-a08482977ede",
   "metadata": {},
   "source": [
    "## Conclusion\n",
    "\n",
    "Le graphique montre une GPA moyenne plus faible pour les étudiants avec un travail à temps partiel, cela peut suggérer que le travail pourrait avoir un impact négatif sur la réussite académique. Inversement, si les différences sont faibles ou si ceux qui travaillent ont une GPA plus élevée, cela pourrait signifier que le travail n'a pas d'effet négatif, voire qu'il est associé à de meilleures compétences en gestion du temps."
   ]
  }
 ],
 "metadata": {
  "kernelspec": {
   "display_name": "Python 3 (ipykernel)",
   "language": "python",
   "name": "python3"
  },
  "language_info": {
   "codemirror_mode": {
    "name": "ipython",
    "version": 3
   },
   "file_extension": ".py",
   "mimetype": "text/x-python",
   "name": "python",
   "nbconvert_exporter": "python",
   "pygments_lexer": "ipython3",
   "version": "3.11.7"
  }
 },
 "nbformat": 4,
 "nbformat_minor": 5
}
